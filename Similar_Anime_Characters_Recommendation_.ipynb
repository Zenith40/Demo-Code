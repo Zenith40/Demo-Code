{
  "nbformat": 4,
  "nbformat_minor": 0,
  "metadata": {
    "colab": {
      "provenance": [],
      "authorship_tag": "ABX9TyM17or5z/t+PsOeCe7GlyO+",
      "include_colab_link": true
    },
    "kernelspec": {
      "name": "python3",
      "display_name": "Python 3"
    },
    "language_info": {
      "name": "python"
    }
  },
  "cells": [
    {
      "cell_type": "markdown",
      "metadata": {
        "id": "view-in-github",
        "colab_type": "text"
      },
      "source": [
        "<a href=\"https://colab.research.google.com/github/Zenith40/Demo-Code/blob/main/Similar_Anime_Characters_Recommendation_.ipynb\" target=\"_parent\"><img src=\"https://colab.research.google.com/assets/colab-badge.svg\" alt=\"Open In Colab\"/></a>"
      ]
    },
    {
      "cell_type": "code",
      "execution_count": 3,
      "metadata": {
        "id": "IzpHlb0IfUKI"
      },
      "outputs": [],
      "source": [
        "import numpy as np\n",
        "import pandas as pd"
      ]
    },
    {
      "cell_type": "code",
      "source": [
        "df = pd.read_csv('/content/anime_character_list.csv')"
      ],
      "metadata": {
        "id": "nIP-l0B1CiW6"
      },
      "execution_count": 5,
      "outputs": []
    },
    {
      "cell_type": "code",
      "source": [
        "df.name[10:20]"
      ],
      "metadata": {
        "colab": {
          "base_uri": "https://localhost:8080/",
          "height": 397
        },
        "id": "gBCt32isCtIB",
        "outputId": "0e4b21ba-81d6-4e28-a10f-901f9a38cdf0"
      },
      "execution_count": 6,
      "outputs": [
        {
          "output_type": "execute_result",
          "data": {
            "text/plain": [
              "10                     Guts  (ガッツ)\n",
              "11          Gintoki Sakata (坂田 銀時)\n",
              "12         Eren Yeager (エレン・イェーガー)\n",
              "13          Kurisu Makise (牧瀬 紅莉栖)\n",
              "14         Itachi Uchiha (うちは イタチ)\n",
              "15             Satoru Gojou (五条 悟)\n",
              "16    Mikasa Ackerman (ミカサ・アッカーマン)\n",
              "17               Ken Kaneki (金木 研)\n",
              "18      Hachiman Hikigaya (比企谷 八幡)\n",
              "19        Kakashi Hatake (はたけ カカシ)\n",
              "Name: name, dtype: object"
            ],
            "text/html": [
              "<div>\n",
              "<style scoped>\n",
              "    .dataframe tbody tr th:only-of-type {\n",
              "        vertical-align: middle;\n",
              "    }\n",
              "\n",
              "    .dataframe tbody tr th {\n",
              "        vertical-align: top;\n",
              "    }\n",
              "\n",
              "    .dataframe thead th {\n",
              "        text-align: right;\n",
              "    }\n",
              "</style>\n",
              "<table border=\"1\" class=\"dataframe\">\n",
              "  <thead>\n",
              "    <tr style=\"text-align: right;\">\n",
              "      <th></th>\n",
              "      <th>name</th>\n",
              "    </tr>\n",
              "  </thead>\n",
              "  <tbody>\n",
              "    <tr>\n",
              "      <th>10</th>\n",
              "      <td>Guts  (ガッツ)</td>\n",
              "    </tr>\n",
              "    <tr>\n",
              "      <th>11</th>\n",
              "      <td>Gintoki Sakata (坂田 銀時)</td>\n",
              "    </tr>\n",
              "    <tr>\n",
              "      <th>12</th>\n",
              "      <td>Eren Yeager (エレン・イェーガー)</td>\n",
              "    </tr>\n",
              "    <tr>\n",
              "      <th>13</th>\n",
              "      <td>Kurisu Makise (牧瀬 紅莉栖)</td>\n",
              "    </tr>\n",
              "    <tr>\n",
              "      <th>14</th>\n",
              "      <td>Itachi Uchiha (うちは イタチ)</td>\n",
              "    </tr>\n",
              "    <tr>\n",
              "      <th>15</th>\n",
              "      <td>Satoru Gojou (五条 悟)</td>\n",
              "    </tr>\n",
              "    <tr>\n",
              "      <th>16</th>\n",
              "      <td>Mikasa Ackerman (ミカサ・アッカーマン)</td>\n",
              "    </tr>\n",
              "    <tr>\n",
              "      <th>17</th>\n",
              "      <td>Ken Kaneki (金木 研)</td>\n",
              "    </tr>\n",
              "    <tr>\n",
              "      <th>18</th>\n",
              "      <td>Hachiman Hikigaya (比企谷 八幡)</td>\n",
              "    </tr>\n",
              "    <tr>\n",
              "      <th>19</th>\n",
              "      <td>Kakashi Hatake (はたけ カカシ)</td>\n",
              "    </tr>\n",
              "  </tbody>\n",
              "</table>\n",
              "</div><br><label><b>dtype:</b> object</label>"
            ]
          },
          "metadata": {},
          "execution_count": 6
        }
      ]
    },
    {
      "cell_type": "code",
      "source": [],
      "metadata": {
        "id": "5D-ga7DWCuJU"
      },
      "execution_count": 6,
      "outputs": []
    },
    {
      "cell_type": "code",
      "source": [
        "df.info()"
      ],
      "metadata": {
        "colab": {
          "base_uri": "https://localhost:8080/"
        },
        "id": "kXQ9QqQ6DPcb",
        "outputId": "276ca0d7-f7bf-44de-9a3b-28d9f3d706db"
      },
      "execution_count": 7,
      "outputs": [
        {
          "output_type": "stream",
          "name": "stdout",
          "text": [
            "<class 'pandas.core.frame.DataFrame'>\n",
            "RangeIndex: 10000 entries, 0 to 9999\n",
            "Data columns (total 4 columns):\n",
            " #   Column     Non-Null Count  Dtype \n",
            "---  ------     --------------  ----- \n",
            " 0   nick_name  10000 non-null  object\n",
            " 1   name       10000 non-null  object\n",
            " 2   image      10000 non-null  object\n",
            " 3   about      10000 non-null  object\n",
            "dtypes: object(4)\n",
            "memory usage: 312.6+ KB\n"
          ]
        }
      ]
    },
    {
      "cell_type": "code",
      "source": [
        "from sklearn.feature_extraction.text import CountVectorizer\n",
        "\n",
        "cv = CountVectorizer(max_features=5000,stop_words='english')"
      ],
      "metadata": {
        "id": "dckOEnjPO77-"
      },
      "execution_count": 8,
      "outputs": []
    },
    {
      "cell_type": "code",
      "source": [
        "from nltk.stem.porter import PorterStemmer\n",
        "ps = PorterStemmer()"
      ],
      "metadata": {
        "id": "GWQ8IGGHPFZa"
      },
      "execution_count": 9,
      "outputs": []
    },
    {
      "cell_type": "code",
      "source": [
        "def stem(text):\n",
        "    y = []\n",
        "\n",
        "    for i in text.split():\n",
        "        y.append(ps.stem(i))\n",
        "\n",
        "    return \" \".join(y)"
      ],
      "metadata": {
        "id": "vRRBBSQAPJh2"
      },
      "execution_count": 10,
      "outputs": []
    },
    {
      "cell_type": "code",
      "source": [
        "data = df.copy()"
      ],
      "metadata": {
        "id": "ELkJbphZPPef"
      },
      "execution_count": 11,
      "outputs": []
    },
    {
      "cell_type": "code",
      "source": [
        "data['about'] = data['about'].apply(stem)"
      ],
      "metadata": {
        "id": "Abj1CLZ-PNDx"
      },
      "execution_count": 12,
      "outputs": []
    },
    {
      "cell_type": "code",
      "source": [
        "vectors = cv.fit_transform(data['about']).toarray()"
      ],
      "metadata": {
        "id": "4k_2wlTXPkhu"
      },
      "execution_count": 13,
      "outputs": []
    },
    {
      "cell_type": "code",
      "source": [
        "from sklearn.metrics.pairwise import cosine_similarity"
      ],
      "metadata": {
        "id": "l2KFquZPPoJG"
      },
      "execution_count": 14,
      "outputs": []
    },
    {
      "cell_type": "code",
      "source": [
        "similarity = cosine_similarity(vectors)"
      ],
      "metadata": {
        "id": "rGLnbL6aPqU9"
      },
      "execution_count": 15,
      "outputs": []
    },
    {
      "cell_type": "code",
      "source": [
        "len(similarity)"
      ],
      "metadata": {
        "id": "rsnH5rXeRMHa",
        "colab": {
          "base_uri": "https://localhost:8080/"
        },
        "outputId": "a371f0db-567c-4880-a2d5-bed0323d47ea"
      },
      "execution_count": 16,
      "outputs": [
        {
          "output_type": "execute_result",
          "data": {
            "text/plain": [
              "10000"
            ]
          },
          "metadata": {},
          "execution_count": 16
        }
      ]
    },
    {
      "cell_type": "code",
      "source": [
        "def recommend(character):\n",
        "  character_index = data[data['name']== character].index[0]\n",
        "  distances = similarity[character_index]\n",
        "  character_list = sorted(list(enumerate(distances)),reverse=True,key=lambda x:x[1])[20:25]\n",
        "\n",
        "  for i in character_list:\n",
        "    print(data.iloc[i[0]].name)\n",
        "    print(data.iloc[i[0]].image)"
      ],
      "metadata": {
        "id": "NGZHBir4PtKa"
      },
      "execution_count": 17,
      "outputs": []
    },
    {
      "cell_type": "code",
      "source": [
        "data[data['name'] == \"Satoru Gojou (五条 悟)\"]"
      ],
      "metadata": {
        "id": "psGmd0MARqzA",
        "colab": {
          "base_uri": "https://localhost:8080/",
          "height": 98
        },
        "outputId": "924fba3e-37b6-4c33-cdb5-e2086a82536d"
      },
      "execution_count": 18,
      "outputs": [
        {
          "output_type": "execute_result",
          "data": {
            "text/plain": [
              "                                        nick_name                 name  \\\n",
              "15  Satoru \"The Strongest Jujutsu Sorcerer\" Gojou  Satoru Gojou (五条 悟)   \n",
              "\n",
              "                                                image  \\\n",
              "15  https://cdn.myanimelist.net/images/characters/...   \n",
              "\n",
              "                                                about  \n",
              "15  animeographi jujutsu kaisen offici pv add main...  "
            ],
            "text/html": [
              "\n",
              "  <div id=\"df-022d8fc4-fd63-4d07-a8ae-ab7d83e2c439\" class=\"colab-df-container\">\n",
              "    <div>\n",
              "<style scoped>\n",
              "    .dataframe tbody tr th:only-of-type {\n",
              "        vertical-align: middle;\n",
              "    }\n",
              "\n",
              "    .dataframe tbody tr th {\n",
              "        vertical-align: top;\n",
              "    }\n",
              "\n",
              "    .dataframe thead th {\n",
              "        text-align: right;\n",
              "    }\n",
              "</style>\n",
              "<table border=\"1\" class=\"dataframe\">\n",
              "  <thead>\n",
              "    <tr style=\"text-align: right;\">\n",
              "      <th></th>\n",
              "      <th>nick_name</th>\n",
              "      <th>name</th>\n",
              "      <th>image</th>\n",
              "      <th>about</th>\n",
              "    </tr>\n",
              "  </thead>\n",
              "  <tbody>\n",
              "    <tr>\n",
              "      <th>15</th>\n",
              "      <td>Satoru \"The Strongest Jujutsu Sorcerer\" Gojou</td>\n",
              "      <td>Satoru Gojou (五条 悟)</td>\n",
              "      <td>https://cdn.myanimelist.net/images/characters/...</td>\n",
              "      <td>animeographi jujutsu kaisen offici pv add main...</td>\n",
              "    </tr>\n",
              "  </tbody>\n",
              "</table>\n",
              "</div>\n",
              "    <div class=\"colab-df-buttons\">\n",
              "\n",
              "  <div class=\"colab-df-container\">\n",
              "    <button class=\"colab-df-convert\" onclick=\"convertToInteractive('df-022d8fc4-fd63-4d07-a8ae-ab7d83e2c439')\"\n",
              "            title=\"Convert this dataframe to an interactive table.\"\n",
              "            style=\"display:none;\">\n",
              "\n",
              "  <svg xmlns=\"http://www.w3.org/2000/svg\" height=\"24px\" viewBox=\"0 -960 960 960\">\n",
              "    <path d=\"M120-120v-720h720v720H120Zm60-500h600v-160H180v160Zm220 220h160v-160H400v160Zm0 220h160v-160H400v160ZM180-400h160v-160H180v160Zm440 0h160v-160H620v160ZM180-180h160v-160H180v160Zm440 0h160v-160H620v160Z\"/>\n",
              "  </svg>\n",
              "    </button>\n",
              "\n",
              "  <style>\n",
              "    .colab-df-container {\n",
              "      display:flex;\n",
              "      gap: 12px;\n",
              "    }\n",
              "\n",
              "    .colab-df-convert {\n",
              "      background-color: #E8F0FE;\n",
              "      border: none;\n",
              "      border-radius: 50%;\n",
              "      cursor: pointer;\n",
              "      display: none;\n",
              "      fill: #1967D2;\n",
              "      height: 32px;\n",
              "      padding: 0 0 0 0;\n",
              "      width: 32px;\n",
              "    }\n",
              "\n",
              "    .colab-df-convert:hover {\n",
              "      background-color: #E2EBFA;\n",
              "      box-shadow: 0px 1px 2px rgba(60, 64, 67, 0.3), 0px 1px 3px 1px rgba(60, 64, 67, 0.15);\n",
              "      fill: #174EA6;\n",
              "    }\n",
              "\n",
              "    .colab-df-buttons div {\n",
              "      margin-bottom: 4px;\n",
              "    }\n",
              "\n",
              "    [theme=dark] .colab-df-convert {\n",
              "      background-color: #3B4455;\n",
              "      fill: #D2E3FC;\n",
              "    }\n",
              "\n",
              "    [theme=dark] .colab-df-convert:hover {\n",
              "      background-color: #434B5C;\n",
              "      box-shadow: 0px 1px 3px 1px rgba(0, 0, 0, 0.15);\n",
              "      filter: drop-shadow(0px 1px 2px rgba(0, 0, 0, 0.3));\n",
              "      fill: #FFFFFF;\n",
              "    }\n",
              "  </style>\n",
              "\n",
              "    <script>\n",
              "      const buttonEl =\n",
              "        document.querySelector('#df-022d8fc4-fd63-4d07-a8ae-ab7d83e2c439 button.colab-df-convert');\n",
              "      buttonEl.style.display =\n",
              "        google.colab.kernel.accessAllowed ? 'block' : 'none';\n",
              "\n",
              "      async function convertToInteractive(key) {\n",
              "        const element = document.querySelector('#df-022d8fc4-fd63-4d07-a8ae-ab7d83e2c439');\n",
              "        const dataTable =\n",
              "          await google.colab.kernel.invokeFunction('convertToInteractive',\n",
              "                                                    [key], {});\n",
              "        if (!dataTable) return;\n",
              "\n",
              "        const docLinkHtml = 'Like what you see? Visit the ' +\n",
              "          '<a target=\"_blank\" href=https://colab.research.google.com/notebooks/data_table.ipynb>data table notebook</a>'\n",
              "          + ' to learn more about interactive tables.';\n",
              "        element.innerHTML = '';\n",
              "        dataTable['output_type'] = 'display_data';\n",
              "        await google.colab.output.renderOutput(dataTable, element);\n",
              "        const docLink = document.createElement('div');\n",
              "        docLink.innerHTML = docLinkHtml;\n",
              "        element.appendChild(docLink);\n",
              "      }\n",
              "    </script>\n",
              "  </div>\n",
              "\n",
              "\n",
              "    </div>\n",
              "  </div>\n"
            ],
            "application/vnd.google.colaboratory.intrinsic+json": {
              "type": "dataframe",
              "summary": "{\n  \"name\": \"data[data['name'] == \\\"Satoru Gojou (\\u4e94\\u6761 \\u609f)\\\"]\",\n  \"rows\": 1,\n  \"fields\": [\n    {\n      \"column\": \"nick_name\",\n      \"properties\": {\n        \"dtype\": \"string\",\n        \"num_unique_values\": 1,\n        \"samples\": [\n          \"Satoru \\\"The Strongest Jujutsu Sorcerer\\\" Gojou\"\n        ],\n        \"semantic_type\": \"\",\n        \"description\": \"\"\n      }\n    },\n    {\n      \"column\": \"name\",\n      \"properties\": {\n        \"dtype\": \"string\",\n        \"num_unique_values\": 1,\n        \"samples\": [\n          \"Satoru Gojou (\\u4e94\\u6761 \\u609f)\"\n        ],\n        \"semantic_type\": \"\",\n        \"description\": \"\"\n      }\n    },\n    {\n      \"column\": \"image\",\n      \"properties\": {\n        \"dtype\": \"string\",\n        \"num_unique_values\": 1,\n        \"samples\": [\n          \"https://cdn.myanimelist.net/images/characters/15/422168.jpg\"\n        ],\n        \"semantic_type\": \"\",\n        \"description\": \"\"\n      }\n    },\n    {\n      \"column\": \"about\",\n      \"properties\": {\n        \"dtype\": \"string\",\n        \"num_unique_values\": 1,\n        \"samples\": [\n          \"animeographi jujutsu kaisen offici pv add main jujutsu kaisen add main jujutsu kaisen 0 movi add main jujutsu kaisen 2nd season add main jujutsu kaisen 2nd season recap add main jujutsu kaisen: kaigyoku/gyokusetsu add main mangaographi jujutsu kaisen add main jujutsu kaisen 0: tokyo toritsu jujutsu koutou senmon gakkou add main member favorites: 61,614 detail club pictur top > charact > satoru gojou satoru gojou (\\u4e94\\u6761 \\u609f)age: 28 birthday: decemb 7, 1989 height: 190 cm (6'3\\\") clan: gojou clan hair: white eyes: light blue grade: special grade abilities: immens strength, immens speed & reflexes, tactic intellect, high skill, immens curs energy, infinity, curs techniqu lapse: blue, curs techniqu reversal: red, curs techniqu hollow: purple, six eyes, limitless, domain expansion: infinit void. satoru gojou is the first-year teacher at tokyo metropolitan magic technic college. when interact with hi student and friends, he is known to be quit play and carefree. however, toward hi enemies, he ha shown to be quit cruel and rebellious. he is also veri confid in hi abil and reput as a power sorcerer. on octob 31st in shibuya, satoru wa seal by kenjaku by use the special grade curs object call the prison realm. on decemb 24th in shinjuku, satoru wa bisect by sukuna use a slash that target the world itself, conclud the battl of the strongest. (source: jujutsu kaisen wiki, edited) voic actor nakamura, yuuichi japanes tang, kaiji english dawn-claude, ren\\u00e9 german lesser, mark french vilchis, jos\\u00e9 gilberto spanish rabelo, leonardo portugues (br) fumagalli, david italian valenzuela, cristina english chemin, pascal french ise, mariya japanes albavera, sebasti\\u00e1n spanish\"\n        ],\n        \"semantic_type\": \"\",\n        \"description\": \"\"\n      }\n    }\n  ]\n}"
            }
          },
          "metadata": {},
          "execution_count": 18
        }
      ]
    },
    {
      "cell_type": "code",
      "source": [
        "recommend(\"Satoru Gojou (五条 悟)\")"
      ],
      "metadata": {
        "id": "gmgMRYsOQG1G",
        "colab": {
          "base_uri": "https://localhost:8080/"
        },
        "outputId": "f0efb54e-4a0c-44e0-8209-ec67685dea0c"
      },
      "execution_count": 19,
      "outputs": [
        {
          "output_type": "stream",
          "name": "stdout",
          "text": [
            "175\n",
            "https://cdn.myanimelist.net/images/characters/3/427139.jpg\n",
            "178\n",
            "https://cdn.myanimelist.net/images/characters/6/431152.jpg\n",
            "1831\n",
            "https://cdn.myanimelist.net/images/characters/5/431905.jpg\n",
            "5045\n",
            "https://cdn.myanimelist.net/images/characters/6/430336.jpg\n",
            "322\n",
            "https://cdn.myanimelist.net/images/characters/2/517123.jpg\n"
          ]
        }
      ]
    },
    {
      "cell_type": "code",
      "source": [],
      "metadata": {
        "id": "PXbiIVhQT9GR"
      },
      "execution_count": 22,
      "outputs": []
    },
    {
      "cell_type": "code",
      "source": [],
      "metadata": {
        "id": "sqWrY6z4T_X1"
      },
      "execution_count": 22,
      "outputs": []
    }
  ]
}